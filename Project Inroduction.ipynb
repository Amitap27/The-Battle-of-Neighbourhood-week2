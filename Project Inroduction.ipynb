{
 "cells": [
  {
   "cell_type": "markdown",
   "metadata": {},
   "source": [
    "# Coursera Capstone Project\n",
    "\n",
    "## The Battle of Neighborhoods (Week 1)\n"
   ]
  },
  {
   "cell_type": "markdown",
   "metadata": {},
   "source": [
    "###  Part 1 : Introduction"
   ]
  },
  {
   "cell_type": "markdown",
   "metadata": {},
   "source": [
    "# 1.\tIntroduction Section : \n",
    "### Discussion of the business problem and the audience who would be interested in this project.\n"
   ]
  },
  {
   "cell_type": "markdown",
   "metadata": {},
   "source": [
    "### Description of the Problem and Background\n",
    "\n",
    "### Scenario:\n",
    "\n",
    "I am a data scientist residing in Downtown Singapore. \n",
    "I currently live within walking distance to Downtown Telok Ayer MRT metro station and I enjoy many ammenities and venues in the area, such as various international cousine restaurants, cafes, food shops and entertainment.\n",
    "I have been offered a great opportunity to work for a leader firm in Manhattan, NY. I am very excited and I want to use this opportunity to practice my learnings in Coursera in order to answer relevant questions arisen.\n",
    "The key question is :  How can I find a convenient and enjoyable place similar to mine now in Singapore?\n",
    "Certainly, I can use available real estate apps and Google but the idea is to use and apply myself the learned tools during the course.\n",
    "In order to make a comparison and evaluation of the rental options in Manhattan NY, I must set some basis, therefore the apartment in Manhattan must meet the following demands:\n",
    " - apartment must be 2 or 3 bedrooms\n",
    " - desired location is near a metro station in the Manhattan area and within 1.0 mile (1.6 km) radius\n",
    " - price of rent not exceed $7,000 per month\n",
    " - top ammenities in the selected neighborhood shall be similar to current residence\n",
    " - desirable to have venues such as coffee shops, restaurants Asian Thai, wine stores, gym and food shops\n",
    " - as a reference, I have included a map of venues near current residence in Singapore.\n",
    "    "
   ]
  },
  {
   "cell_type": "markdown",
   "metadata": {},
   "source": [
    "### Business Problem:   \n",
    "The challenge is to find a suitable apartment for rent in Manhattan NY that complies with the demands on location, price and venues. The data required to resolve this challenge is described in the following section 2, below.\n",
    "\n",
    "\n",
    "### Interested Audience\n",
    "I believe this is a relevant challenge with valid questions for anyone moving to other large city in US, EU or Asia. The same methodology can be applied in accordance to demands as applicable. This case is also applicable for anyone interested in exploring starting or locating a new business in any city. Lastly, it can also serve as a good practical exercise to develop Data Science skills.\n"
   ]
  }
 ],
 "metadata": {
  "kernelspec": {
   "display_name": "Python 3",
   "language": "python",
   "name": "python3"
  },
  "language_info": {
   "codemirror_mode": {
    "name": "ipython",
    "version": 3
   },
   "file_extension": ".py",
   "mimetype": "text/x-python",
   "name": "python",
   "nbconvert_exporter": "python",
   "pygments_lexer": "ipython3",
   "version": "3.7.4"
  }
 },
 "nbformat": 4,
 "nbformat_minor": 2
}
